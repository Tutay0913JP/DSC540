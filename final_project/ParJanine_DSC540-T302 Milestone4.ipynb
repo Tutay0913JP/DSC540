{
 "cells": [
  {
   "cell_type": "markdown",
   "id": "ba31aba4",
   "metadata": {},
   "source": [
    "# DSC540 - Final Term Project Milestone 4 - Connecting to an API/Pulling in the Data and Cleaning/Formatting\n",
    "\n",
    "## Janine Par "
   ]
  },
  {
   "cell_type": "markdown",
   "id": "4c9247c0",
   "metadata": {},
   "source": [
    "### For this milestone, I will be working on two API (s):\n",
    "\n",
    "1. Us-Cities Demographic information by Opendatasoft\n",
    "\n",
    "2. Yelp API - Business Reviews "
   ]
  },
  {
   "cell_type": "markdown",
   "id": "45156dff",
   "metadata": {},
   "source": [
    "### Import necessary libraries including request, json, panda, etc"
   ]
  },
  {
   "cell_type": "code",
   "execution_count": 23,
   "id": "d2bae5b0",
   "metadata": {},
   "outputs": [],
   "source": [
    "import pandas as pd\n",
    "import requests\n",
    "import re\n",
    "\n",
    "import urllib.request\n",
    "import urllib.request, urllib.parse\n",
    "from urllib.error import HTTPError,URLError\n",
    "import json"
   ]
  },
  {
   "cell_type": "markdown",
   "id": "74d8c3bd",
   "metadata": {},
   "source": [
    "# US DEMOGRAPHIC INFORMATION API"
   ]
  },
  {
   "cell_type": "markdown",
   "id": "4945ecdd",
   "metadata": {},
   "source": [
    "### Call the API using urllib,request\n",
    "#### Step1: Create a function that will accept URL as parameter. This function will check connection and if successful, it will read and decode and return the response"
   ]
  },
  {
   "cell_type": "code",
   "execution_count": 2,
   "id": "6aa74305",
   "metadata": {},
   "outputs": [],
   "source": [
    "def get_data(url):\n",
    " \n",
    "    try: \n",
    "        uh = urllib.request.urlopen(url)\n",
    "    except HTTPError as e:\n",
    "        print(\"Sorry! Could not retrive anything on\")\n",
    "        return None\n",
    "    except URLError as e:\n",
    "        print('Failed to reach a server.')\n",
    "        print('Reason: ', e.reason)\n",
    "        return None\n",
    "    else:\n",
    "        data = uh.read().decode()\n",
    "        print(\"Sucess\")\n",
    "        #rint(\"Retrieved data on {}. Total {} characters read.\".format(country_name,len(data)))\n",
    "        return data"
   ]
  },
  {
   "cell_type": "code",
   "execution_count": 3,
   "id": "7aad6482",
   "metadata": {},
   "outputs": [],
   "source": [
    "url_uscities = \"https://documentation-resources.opendatasoft.com/api/records/1.0/search/?dataset=us-cities-demographics&q=&rows=2891&facet=city&facet=state\""
   ]
  },
  {
   "cell_type": "code",
   "execution_count": 4,
   "id": "fc151216",
   "metadata": {
    "scrolled": true
   },
   "outputs": [
    {
     "name": "stdout",
     "output_type": "stream",
     "text": [
      "Sucess\n"
     ]
    }
   ],
   "source": [
    "data=get_data(url_uscities)"
   ]
  },
  {
   "cell_type": "markdown",
   "id": "0c2f079a",
   "metadata": {},
   "source": [
    "### Step2: Load ther result to a dictionary "
   ]
  },
  {
   "cell_type": "code",
   "execution_count": 5,
   "id": "4ca23b9a",
   "metadata": {},
   "outputs": [
    {
     "data": {
      "text/plain": [
       "dict"
      ]
     },
     "execution_count": 5,
     "metadata": {},
     "output_type": "execute_result"
    }
   ],
   "source": [
    "# Load from string 'data'\n",
    "us_cities_dem=json.loads(data)\n",
    "type(us_cities_dem)"
   ]
  },
  {
   "cell_type": "markdown",
   "id": "91227489",
   "metadata": {},
   "source": [
    "### Step3: Determine the keys to identify the columns needed in the dataframe "
   ]
  },
  {
   "cell_type": "code",
   "execution_count": 6,
   "id": "f2030734",
   "metadata": {},
   "outputs": [
    {
     "data": {
      "text/plain": [
       "dict_keys(['nhits', 'parameters', 'records', 'facet_groups'])"
      ]
     },
     "execution_count": 6,
     "metadata": {},
     "output_type": "execute_result"
    }
   ],
   "source": [
    "us_cities_dem.keys()"
   ]
  },
  {
   "cell_type": "code",
   "execution_count": 7,
   "id": "9bc0074f",
   "metadata": {},
   "outputs": [
    {
     "data": {
      "text/plain": [
       "dict_keys(['datasetid', 'recordid', 'fields', 'record_timestamp'])"
      ]
     },
     "execution_count": 7,
     "metadata": {},
     "output_type": "execute_result"
    }
   ],
   "source": [
    "# record information are inside key = Records, determine the columns needed inside\n",
    "us_cities_dem['records'][1].keys()"
   ]
  },
  {
   "cell_type": "code",
   "execution_count": 10,
   "id": "0fda69e6",
   "metadata": {},
   "outputs": [
    {
     "data": {
      "text/plain": [
       "dict_keys(['male_population', 'city', 'number_of_veterans', 'median_age', 'race', 'count', 'female_population', 'state_code', 'foreign_born', 'state', 'total_population', 'average_household_size'])"
      ]
     },
     "execution_count": 10,
     "metadata": {},
     "output_type": "execute_result"
    }
   ],
   "source": [
    "# field information are inside key = fields, determine the columns needed inside\n",
    "us_cities_dem['records'][1]['fields'].keys()"
   ]
  },
  {
   "cell_type": "markdown",
   "id": "267e2ec9",
   "metadata": {},
   "source": [
    "#### Only geting the 'records' section of the response since only field information from this section is needed "
   ]
  },
  {
   "cell_type": "code",
   "execution_count": 11,
   "id": "edb39549",
   "metadata": {},
   "outputs": [
    {
     "data": {
      "text/plain": [
       "[{'datasetid': 'us-cities-demographics',\n",
       "  'recordid': '9ff2cdb9e7cbe1585135f848ab90d63a0934a2da',\n",
       "  'fields': {'male_population': 40601,\n",
       "   'city': 'Silver Spring',\n",
       "   'number_of_veterans': 1562,\n",
       "   'median_age': 33.8,\n",
       "   'race': 'Hispanic or Latino',\n",
       "   'count': 25924,\n",
       "   'female_population': 41862,\n",
       "   'state_code': 'MD',\n",
       "   'foreign_born': 30908,\n",
       "   'state': 'Maryland',\n",
       "   'total_population': 82463,\n",
       "   'average_household_size': 2.6},\n",
       "  'record_timestamp': '2020-12-30T13:35:36.384Z'},\n",
       " {'datasetid': 'us-cities-demographics',\n",
       "  'recordid': 'dd9bab63ddc55c438457d919dca8073d5268b791',\n",
       "  'fields': {'male_population': 51751,\n",
       "   'city': 'High Point',\n",
       "   'number_of_veterans': 5204,\n",
       "   'median_age': 35.5,\n",
       "   'race': 'Asian',\n",
       "   'count': 11060,\n",
       "   'female_population': 58077,\n",
       "   'state_code': 'NC',\n",
       "   'foreign_born': 16315,\n",
       "   'state': 'North Carolina',\n",
       "   'total_population': 109828,\n",
       "   'average_household_size': 2.65},\n",
       "  'record_timestamp': '2020-12-30T13:35:36.384Z'},\n",
       " {'datasetid': 'us-cities-demographics',\n",
       "  'recordid': '413ed05fec8b9450e35ac3010ddef17bcfbd83a6',\n",
       "  'fields': {'male_population': 741270,\n",
       "   'city': 'Philadelphia',\n",
       "   'number_of_veterans': 61995,\n",
       "   'median_age': 34.1,\n",
       "   'race': 'Asian',\n",
       "   'count': 122721,\n",
       "   'female_population': 826172,\n",
       "   'state_code': 'PA',\n",
       "   'foreign_born': 205339,\n",
       "   'state': 'Pennsylvania',\n",
       "   'total_population': 1567442,\n",
       "   'average_household_size': 2.61},\n",
       "  'record_timestamp': '2020-12-30T13:35:36.384Z'},\n",
       " {'datasetid': 'us-cities-demographics',\n",
       "  'recordid': '0074451cff52969855654d21497e9459f1108d8d',\n",
       "  'fields': {'male_population': 192354,\n",
       "   'city': 'Wichita',\n",
       "   'number_of_veterans': 23978,\n",
       "   'median_age': 34.6,\n",
       "   'race': 'American Indian and Alaska Native',\n",
       "   'count': 8791,\n",
       "   'female_population': 197601,\n",
       "   'state_code': 'KS',\n",
       "   'foreign_born': 40270,\n",
       "   'state': 'Kansas',\n",
       "   'total_population': 389955,\n",
       "   'average_household_size': 2.56},\n",
       "  'record_timestamp': '2020-12-30T13:35:36.384Z'},\n",
       " {'datasetid': 'us-cities-demographics',\n",
       "  'recordid': '54b201cac9c7523363eb0cfeadc352a04fe016af',\n",
       "  'fields': {'male_population': 60626,\n",
       "   'city': 'Allen',\n",
       "   'number_of_veterans': 5691,\n",
       "   'median_age': 33.5,\n",
       "   'race': 'Black or African-American',\n",
       "   'count': 22304,\n",
       "   'female_population': 59581,\n",
       "   'state_code': 'PA',\n",
       "   'foreign_born': 19652,\n",
       "   'state': 'Pennsylvania',\n",
       "   'total_population': 120207,\n",
       "   'average_household_size': 2.67},\n",
       "  'record_timestamp': '2020-12-30T13:35:36.384Z'},\n",
       " {'datasetid': 'us-cities-demographics',\n",
       "  'recordid': 'bc253f8698e9e0d9e00e6b37458d6d9e947cae49',\n",
       "  'fields': {'male_population': 36295,\n",
       "   'city': 'Bolingbrook',\n",
       "   'number_of_veterans': 2951,\n",
       "   'median_age': 33.7,\n",
       "   'race': 'American Indian and Alaska Native',\n",
       "   'count': 323,\n",
       "   'female_population': 35801,\n",
       "   'state_code': 'IL',\n",
       "   'foreign_born': 15212,\n",
       "   'state': 'Illinois',\n",
       "   'total_population': 72096,\n",
       "   'average_household_size': 3.42},\n",
       "  'record_timestamp': '2020-12-30T13:35:36.384Z'},\n",
       " {'datasetid': 'us-cities-demographics',\n",
       "  'recordid': 'a324ac81d2bed29a4b90d74c839e1698e9d06328',\n",
       "  'fields': {'male_population': 76013,\n",
       "   'city': 'Lakewood',\n",
       "   'number_of_veterans': 9988,\n",
       "   'median_age': 37.7,\n",
       "   'race': 'Hispanic or Latino',\n",
       "   'count': 33630,\n",
       "   'female_population': 76576,\n",
       "   'state_code': 'CO',\n",
       "   'foreign_born': 14169,\n",
       "   'state': 'Colorado',\n",
       "   'total_population': 152589,\n",
       "   'average_household_size': 2.29},\n",
       "  'record_timestamp': '2020-12-30T13:35:36.384Z'},\n",
       " {'datasetid': 'us-cities-demographics',\n",
       "  'recordid': '8f99ab12ddbf8f841e6773fade5d9154f678935b',\n",
       "  'fields': {'male_population': 48984,\n",
       "   'city': 'Flint',\n",
       "   'number_of_veterans': 3757,\n",
       "   'median_age': 35.3,\n",
       "   'race': 'White',\n",
       "   'count': 44786,\n",
       "   'female_population': 49313,\n",
       "   'state_code': 'MI',\n",
       "   'foreign_born': 2138,\n",
       "   'state': 'Michigan',\n",
       "   'total_population': 98297,\n",
       "   'average_household_size': 2.38},\n",
       "  'record_timestamp': '2020-12-30T13:35:36.384Z'},\n",
       " {'datasetid': 'us-cities-demographics',\n",
       "  'recordid': 'dd32aa104bc7ed8279f44e626ae96448a969bc31',\n",
       "  'fields': {'male_population': 63765,\n",
       "   'city': 'New Haven',\n",
       "   'number_of_veterans': 2567,\n",
       "   'median_age': 29.9,\n",
       "   'race': 'American Indian and Alaska Native',\n",
       "   'count': 2205,\n",
       "   'female_population': 66545,\n",
       "   'state_code': 'CT',\n",
       "   'foreign_born': 25871,\n",
       "   'state': 'Connecticut',\n",
       "   'total_population': 130310,\n",
       "   'average_household_size': 2.48},\n",
       "  'record_timestamp': '2020-12-30T13:35:36.384Z'},\n",
       " {'datasetid': 'us-cities-demographics',\n",
       "  'recordid': '965b3e1687d767156913bbbcb50915e282c21ec0',\n",
       "  'fields': {'male_population': 35442,\n",
       "   'city': 'Framingham',\n",
       "   'number_of_veterans': 2625,\n",
       "   'median_age': 40.3,\n",
       "   'race': 'Black or African-American',\n",
       "   'count': 6944,\n",
       "   'female_population': 35768,\n",
       "   'state_code': 'MA',\n",
       "   'foreign_born': 19070,\n",
       "   'state': 'Massachusetts',\n",
       "   'total_population': 71210,\n",
       "   'average_household_size': 2.49},\n",
       "  'record_timestamp': '2020-12-30T13:35:36.384Z'}]"
      ]
     },
     "execution_count": 11,
     "metadata": {},
     "output_type": "execute_result"
    }
   ],
   "source": [
    "us_cities_rec=us_cities_dem['records']\n",
    "us_cities_rec[:10]"
   ]
  },
  {
   "cell_type": "markdown",
   "id": "543c6475",
   "metadata": {},
   "source": [
    "### Step4: \n",
    "* Create a blank dictionary with list of each fields identified from Step3"
   ]
  },
  {
   "cell_type": "code",
   "execution_count": 12,
   "id": "08b3d1f1",
   "metadata": {},
   "outputs": [],
   "source": [
    "#First get the dataset and record_id and create list\n",
    "data_rec_dtl={'datasetid':[],'recordid':[],'record_timestamp':[] ,'male_population':[],'city':[],'number_of_veterans':[],\n",
    "             'median_age':[],'race':[],'count':[] ,'female_population':[],'state_code':[],'foreign_born':[],\n",
    "             'state':[],'total_population':[],'average_household_size':[] }\n"
   ]
  },
  {
   "cell_type": "markdown",
   "id": "906bbbb2",
   "metadata": {},
   "source": [
    " * Then loop through the us_cities_dem list to capture each data-element information and then append to the final list"
   ]
  },
  {
   "cell_type": "code",
   "execution_count": 13,
   "id": "a10178f1",
   "metadata": {},
   "outputs": [],
   "source": [
    "#Some fields are seem to be dynamic where some keys are not in the record so I used dict.get to avoid key value error\n",
    "for i, dtl in enumerate(us_cities_rec):\n",
    "    data_rec_dtl['record_timestamp'].append(us_cities_rec[i]['record_timestamp'])\n",
    "    data_rec_dtl['datasetid'].append(us_cities_rec[i]['datasetid'])\n",
    "    data_rec_dtl['recordid'].append(us_cities_rec[i]['recordid'])  \n",
    "    data_rec_dtl['male_population'].append(us_cities_rec[i]['fields'].get('male_population','none'))\n",
    "    data_rec_dtl['city'].append(us_cities_rec[i]['fields'].get('city',0))\n",
    "    data_rec_dtl['number_of_veterans'].append(us_cities_rec[i]['fields'].get('number_of_veterans',0))\n",
    "        \n",
    "    data_rec_dtl['median_age'].append(us_cities_rec[i]['fields'].get('median_age'))\n",
    "    data_rec_dtl['race'].append(us_cities_rec[i]['fields'].get('race'))\n",
    "    data_rec_dtl['count'].append(us_cities_rec[i]['fields'].get('count'))\n",
    "    \n",
    "    data_rec_dtl['female_population'].append(us_cities_rec[i]['fields'].get('female_population'))\n",
    "    data_rec_dtl['foreign_born'].append(us_cities_rec[i]['fields'].get('foreign_born'))\n",
    "    data_rec_dtl['state_code'].append(us_cities_rec[i]['fields'].get('state_code'))\n",
    "    \n",
    "    \n",
    "    data_rec_dtl['state'].append(us_cities_rec[i]['fields'].get('state'))\n",
    "    data_rec_dtl['total_population'].append(us_cities_rec[i]['fields'].get('total_population'))\n",
    "    data_rec_dtl['average_household_size'].append(us_cities_rec[i]['fields'].get('average_household_size'))\n",
    "    "
   ]
  },
  {
   "cell_type": "markdown",
   "id": "e2eba18b",
   "metadata": {},
   "source": [
    "#### Verifying if count is the same accross the lists"
   ]
  },
  {
   "cell_type": "code",
   "execution_count": 14,
   "id": "163a0f4f",
   "metadata": {},
   "outputs": [
    {
     "name": "stdout",
     "output_type": "stream",
     "text": [
      "datasetid - 2891\n",
      "recordid - 2891\n",
      "record_timestamp - 2891\n",
      "male_population - 2891\n",
      "city - 2891\n",
      "number_of_veterans - 2891\n",
      "median_age - 2891\n",
      "race - 2891\n",
      "count - 2891\n",
      "female_population - 2891\n",
      "state_code - 2891\n",
      "foreign_born - 2891\n",
      "state - 2891\n",
      "total_population - 2891\n",
      "average_household_size - 2891\n"
     ]
    }
   ],
   "source": [
    "# Check if all dictionary have same length \n",
    "\n",
    "for k in data_rec_dtl:\n",
    "    print(k+' - '+str(len(data_rec_dtl[k])))\n",
    "    \n"
   ]
  },
  {
   "cell_type": "markdown",
   "id": "aefb4aaf",
   "metadata": {},
   "source": [
    "### Step4: Create dataframe of the US CITIES DEMOGRAPHIC"
   ]
  },
  {
   "cell_type": "code",
   "execution_count": 24,
   "id": "2badb990",
   "metadata": {},
   "outputs": [
    {
     "data": {
      "text/plain": [
       "(1500, 5)"
      ]
     },
     "execution_count": 24,
     "metadata": {},
     "output_type": "execute_result"
    }
   ],
   "source": [
    "df_us_cities_dem = pd.DataFrame(data_rec_dtl)\n",
    "df_us_cities_dem.shape"
   ]
  },
  {
   "cell_type": "code",
   "execution_count": 16,
   "id": "7928ef33",
   "metadata": {},
   "outputs": [
    {
     "data": {
      "text/html": [
       "<div>\n",
       "<style scoped>\n",
       "    .dataframe tbody tr th:only-of-type {\n",
       "        vertical-align: middle;\n",
       "    }\n",
       "\n",
       "    .dataframe tbody tr th {\n",
       "        vertical-align: top;\n",
       "    }\n",
       "\n",
       "    .dataframe thead th {\n",
       "        text-align: right;\n",
       "    }\n",
       "</style>\n",
       "<table border=\"1\" class=\"dataframe\">\n",
       "  <thead>\n",
       "    <tr style=\"text-align: right;\">\n",
       "      <th></th>\n",
       "      <th>datasetid</th>\n",
       "      <th>recordid</th>\n",
       "      <th>record_timestamp</th>\n",
       "      <th>male_population</th>\n",
       "      <th>city</th>\n",
       "      <th>number_of_veterans</th>\n",
       "      <th>median_age</th>\n",
       "      <th>race</th>\n",
       "      <th>count</th>\n",
       "      <th>female_population</th>\n",
       "      <th>state_code</th>\n",
       "      <th>foreign_born</th>\n",
       "      <th>state</th>\n",
       "      <th>total_population</th>\n",
       "      <th>average_household_size</th>\n",
       "    </tr>\n",
       "  </thead>\n",
       "  <tbody>\n",
       "    <tr>\n",
       "      <th>0</th>\n",
       "      <td>us-cities-demographics</td>\n",
       "      <td>9ff2cdb9e7cbe1585135f848ab90d63a0934a2da</td>\n",
       "      <td>2020-12-30T13:35:36.384Z</td>\n",
       "      <td>40601</td>\n",
       "      <td>Silver Spring</td>\n",
       "      <td>1562</td>\n",
       "      <td>33.8</td>\n",
       "      <td>Hispanic or Latino</td>\n",
       "      <td>25924</td>\n",
       "      <td>41862.0</td>\n",
       "      <td>MD</td>\n",
       "      <td>30908.0</td>\n",
       "      <td>Maryland</td>\n",
       "      <td>82463</td>\n",
       "      <td>2.60</td>\n",
       "    </tr>\n",
       "    <tr>\n",
       "      <th>1</th>\n",
       "      <td>us-cities-demographics</td>\n",
       "      <td>dd9bab63ddc55c438457d919dca8073d5268b791</td>\n",
       "      <td>2020-12-30T13:35:36.384Z</td>\n",
       "      <td>51751</td>\n",
       "      <td>High Point</td>\n",
       "      <td>5204</td>\n",
       "      <td>35.5</td>\n",
       "      <td>Asian</td>\n",
       "      <td>11060</td>\n",
       "      <td>58077.0</td>\n",
       "      <td>NC</td>\n",
       "      <td>16315.0</td>\n",
       "      <td>North Carolina</td>\n",
       "      <td>109828</td>\n",
       "      <td>2.65</td>\n",
       "    </tr>\n",
       "    <tr>\n",
       "      <th>2</th>\n",
       "      <td>us-cities-demographics</td>\n",
       "      <td>413ed05fec8b9450e35ac3010ddef17bcfbd83a6</td>\n",
       "      <td>2020-12-30T13:35:36.384Z</td>\n",
       "      <td>741270</td>\n",
       "      <td>Philadelphia</td>\n",
       "      <td>61995</td>\n",
       "      <td>34.1</td>\n",
       "      <td>Asian</td>\n",
       "      <td>122721</td>\n",
       "      <td>826172.0</td>\n",
       "      <td>PA</td>\n",
       "      <td>205339.0</td>\n",
       "      <td>Pennsylvania</td>\n",
       "      <td>1567442</td>\n",
       "      <td>2.61</td>\n",
       "    </tr>\n",
       "    <tr>\n",
       "      <th>3</th>\n",
       "      <td>us-cities-demographics</td>\n",
       "      <td>0074451cff52969855654d21497e9459f1108d8d</td>\n",
       "      <td>2020-12-30T13:35:36.384Z</td>\n",
       "      <td>192354</td>\n",
       "      <td>Wichita</td>\n",
       "      <td>23978</td>\n",
       "      <td>34.6</td>\n",
       "      <td>American Indian and Alaska Native</td>\n",
       "      <td>8791</td>\n",
       "      <td>197601.0</td>\n",
       "      <td>KS</td>\n",
       "      <td>40270.0</td>\n",
       "      <td>Kansas</td>\n",
       "      <td>389955</td>\n",
       "      <td>2.56</td>\n",
       "    </tr>\n",
       "    <tr>\n",
       "      <th>4</th>\n",
       "      <td>us-cities-demographics</td>\n",
       "      <td>54b201cac9c7523363eb0cfeadc352a04fe016af</td>\n",
       "      <td>2020-12-30T13:35:36.384Z</td>\n",
       "      <td>60626</td>\n",
       "      <td>Allen</td>\n",
       "      <td>5691</td>\n",
       "      <td>33.5</td>\n",
       "      <td>Black or African-American</td>\n",
       "      <td>22304</td>\n",
       "      <td>59581.0</td>\n",
       "      <td>PA</td>\n",
       "      <td>19652.0</td>\n",
       "      <td>Pennsylvania</td>\n",
       "      <td>120207</td>\n",
       "      <td>2.67</td>\n",
       "    </tr>\n",
       "  </tbody>\n",
       "</table>\n",
       "</div>"
      ],
      "text/plain": [
       "                datasetid                                  recordid  \\\n",
       "0  us-cities-demographics  9ff2cdb9e7cbe1585135f848ab90d63a0934a2da   \n",
       "1  us-cities-demographics  dd9bab63ddc55c438457d919dca8073d5268b791   \n",
       "2  us-cities-demographics  413ed05fec8b9450e35ac3010ddef17bcfbd83a6   \n",
       "3  us-cities-demographics  0074451cff52969855654d21497e9459f1108d8d   \n",
       "4  us-cities-demographics  54b201cac9c7523363eb0cfeadc352a04fe016af   \n",
       "\n",
       "           record_timestamp male_population           city  \\\n",
       "0  2020-12-30T13:35:36.384Z           40601  Silver Spring   \n",
       "1  2020-12-30T13:35:36.384Z           51751     High Point   \n",
       "2  2020-12-30T13:35:36.384Z          741270   Philadelphia   \n",
       "3  2020-12-30T13:35:36.384Z          192354        Wichita   \n",
       "4  2020-12-30T13:35:36.384Z           60626          Allen   \n",
       "\n",
       "   number_of_veterans  median_age                               race   count  \\\n",
       "0                1562        33.8                 Hispanic or Latino   25924   \n",
       "1                5204        35.5                              Asian   11060   \n",
       "2               61995        34.1                              Asian  122721   \n",
       "3               23978        34.6  American Indian and Alaska Native    8791   \n",
       "4                5691        33.5          Black or African-American   22304   \n",
       "\n",
       "   female_population state_code  foreign_born           state  \\\n",
       "0            41862.0         MD       30908.0        Maryland   \n",
       "1            58077.0         NC       16315.0  North Carolina   \n",
       "2           826172.0         PA      205339.0    Pennsylvania   \n",
       "3           197601.0         KS       40270.0          Kansas   \n",
       "4            59581.0         PA       19652.0    Pennsylvania   \n",
       "\n",
       "   total_population  average_household_size  \n",
       "0             82463                    2.60  \n",
       "1            109828                    2.65  \n",
       "2           1567442                    2.61  \n",
       "3            389955                    2.56  \n",
       "4            120207                    2.67  "
      ]
     },
     "execution_count": 16,
     "metadata": {},
     "output_type": "execute_result"
    }
   ],
   "source": [
    "df_us_cities_dem.head()"
   ]
  },
  {
   "cell_type": "markdown",
   "id": "967c583b",
   "metadata": {},
   "source": [
    "### Step5: Examine missing values and drop na (threshold =10)"
   ]
  },
  {
   "cell_type": "code",
   "execution_count": 17,
   "id": "27500874",
   "metadata": {},
   "outputs": [],
   "source": [
    "def df_missing_cols (df):\n",
    "    for c in df.columns:\n",
    "            is_missing=df[c].isna().sum()\n",
    "            if is_missing > 0:\n",
    "                print (\"{} has {} missing values (s)\". format (c,is_missing))\n",
    "            else:\n",
    "                print (\"{} has no missing values\".format(c))"
   ]
  },
  {
   "cell_type": "code",
   "execution_count": 18,
   "id": "70e04d19",
   "metadata": {},
   "outputs": [],
   "source": [
    "def drop_nan (df):\n",
    "    df=df.dropna(thresh=10)\n",
    "    return(df)"
   ]
  },
  {
   "cell_type": "code",
   "execution_count": 19,
   "id": "1e72770f",
   "metadata": {},
   "outputs": [
    {
     "name": "stdout",
     "output_type": "stream",
     "text": [
      "datasetid has no missing values\n",
      "recordid has no missing values\n",
      "record_timestamp has no missing values\n",
      "male_population has no missing values\n",
      "city has no missing values\n",
      "number_of_veterans has no missing values\n",
      "median_age has no missing values\n",
      "race has no missing values\n",
      "count has no missing values\n",
      "female_population has 3 missing values (s)\n",
      "state_code has no missing values\n",
      "foreign_born has 13 missing values (s)\n",
      "state has no missing values\n",
      "total_population has no missing values\n",
      "average_household_size has 16 missing values (s)\n"
     ]
    }
   ],
   "source": [
    "df_missing_cols(df_us_cities_dem)"
   ]
  },
  {
   "cell_type": "code",
   "execution_count": 20,
   "id": "da99258d",
   "metadata": {},
   "outputs": [
    {
     "data": {
      "text/plain": [
       "(2891, 15)"
      ]
     },
     "execution_count": 20,
     "metadata": {},
     "output_type": "execute_result"
    }
   ],
   "source": [
    "df_us_cities_dem=drop_nan(df_us_cities_dem)\n",
    "df_us_cities_dem.shape"
   ]
  },
  {
   "cell_type": "markdown",
   "id": "0e3bbc74",
   "metadata": {},
   "source": [
    "### Create Flat File for database load"
   ]
  },
  {
   "cell_type": "markdown",
   "id": "d4051a6b",
   "metadata": {},
   "source": [
    "### Step6: Do some string clean-up\n",
    "* Remove whitespace, make statecode upper case and remove if there are any uneccessary characters"
   ]
  },
  {
   "cell_type": "code",
   "execution_count": 22,
   "id": "eb5dfdda",
   "metadata": {},
   "outputs": [
    {
     "name": "stderr",
     "output_type": "stream",
     "text": [
      "C:\\Users\\janin\\AppData\\Local\\Temp\\ipykernel_10152\\573229857.py:2: FutureWarning: The default value of regex will change from True to False in a future version.\n",
      "  df_us_cities_dem[\"state_code\"] = df_us_cities_dem[\"state_code\"].str.strip().str.upper().str.replace(\"/\\A[a-z0-9\\s]+\\Z/i\",'')\n"
     ]
    }
   ],
   "source": [
    "#upper case country an remove unwanted characters\n",
    "df_us_cities_dem[\"state_code\"] = df_us_cities_dem[\"state_code\"].str.strip().str.upper().str.replace(\"/\\A[a-z0-9\\s]+\\Z/i\",'')\n"
   ]
  },
  {
   "cell_type": "markdown",
   "id": "17a1216b",
   "metadata": {},
   "source": [
    "* Make race all lower case then validate"
   ]
  },
  {
   "cell_type": "code",
   "execution_count": 25,
   "id": "b9ec6e2e",
   "metadata": {},
   "outputs": [
    {
     "data": {
      "text/plain": [
       "hispanic or latino                   596\n",
       "white                                589\n",
       "black or african-american            584\n",
       "asian                                583\n",
       "american indian and alaska native    539\n",
       "Name: race, dtype: int64"
      ]
     },
     "execution_count": 25,
     "metadata": {},
     "output_type": "execute_result"
    }
   ],
   "source": [
    "df_us_cities_dem[\"race\"] = df_us_cities_dem[\"race\"].str.lower()\n",
    "df_us_cities_dem[\"race\"].value_counts()"
   ]
  },
  {
   "cell_type": "code",
   "execution_count": 24,
   "id": "d7f36515",
   "metadata": {},
   "outputs": [
    {
     "data": {
      "text/html": [
       "<div>\n",
       "<style scoped>\n",
       "    .dataframe tbody tr th:only-of-type {\n",
       "        vertical-align: middle;\n",
       "    }\n",
       "\n",
       "    .dataframe tbody tr th {\n",
       "        vertical-align: top;\n",
       "    }\n",
       "\n",
       "    .dataframe thead th {\n",
       "        text-align: right;\n",
       "    }\n",
       "</style>\n",
       "<table border=\"1\" class=\"dataframe\">\n",
       "  <thead>\n",
       "    <tr style=\"text-align: right;\">\n",
       "      <th></th>\n",
       "      <th>datasetid</th>\n",
       "      <th>recordid</th>\n",
       "      <th>record_timestamp</th>\n",
       "      <th>male_population</th>\n",
       "      <th>city</th>\n",
       "      <th>number_of_veterans</th>\n",
       "      <th>median_age</th>\n",
       "      <th>race</th>\n",
       "      <th>count</th>\n",
       "      <th>female_population</th>\n",
       "      <th>state_code</th>\n",
       "      <th>foreign_born</th>\n",
       "      <th>state</th>\n",
       "      <th>total_population</th>\n",
       "      <th>average_household_size</th>\n",
       "    </tr>\n",
       "  </thead>\n",
       "  <tbody>\n",
       "    <tr>\n",
       "      <th>0</th>\n",
       "      <td>us-cities-demographics</td>\n",
       "      <td>9ff2cdb9e7cbe1585135f848ab90d63a0934a2da</td>\n",
       "      <td>2020-12-30T13:35:36.384Z</td>\n",
       "      <td>40601</td>\n",
       "      <td>Silver Spring</td>\n",
       "      <td>1562</td>\n",
       "      <td>33.8</td>\n",
       "      <td>hispanic or latino</td>\n",
       "      <td>25924</td>\n",
       "      <td>41862.0</td>\n",
       "      <td>MD</td>\n",
       "      <td>30908.0</td>\n",
       "      <td>Maryland</td>\n",
       "      <td>82463</td>\n",
       "      <td>2.60</td>\n",
       "    </tr>\n",
       "    <tr>\n",
       "      <th>1</th>\n",
       "      <td>us-cities-demographics</td>\n",
       "      <td>dd9bab63ddc55c438457d919dca8073d5268b791</td>\n",
       "      <td>2020-12-30T13:35:36.384Z</td>\n",
       "      <td>51751</td>\n",
       "      <td>High Point</td>\n",
       "      <td>5204</td>\n",
       "      <td>35.5</td>\n",
       "      <td>asian</td>\n",
       "      <td>11060</td>\n",
       "      <td>58077.0</td>\n",
       "      <td>NC</td>\n",
       "      <td>16315.0</td>\n",
       "      <td>North Carolina</td>\n",
       "      <td>109828</td>\n",
       "      <td>2.65</td>\n",
       "    </tr>\n",
       "    <tr>\n",
       "      <th>2</th>\n",
       "      <td>us-cities-demographics</td>\n",
       "      <td>413ed05fec8b9450e35ac3010ddef17bcfbd83a6</td>\n",
       "      <td>2020-12-30T13:35:36.384Z</td>\n",
       "      <td>741270</td>\n",
       "      <td>Philadelphia</td>\n",
       "      <td>61995</td>\n",
       "      <td>34.1</td>\n",
       "      <td>asian</td>\n",
       "      <td>122721</td>\n",
       "      <td>826172.0</td>\n",
       "      <td>PA</td>\n",
       "      <td>205339.0</td>\n",
       "      <td>Pennsylvania</td>\n",
       "      <td>1567442</td>\n",
       "      <td>2.61</td>\n",
       "    </tr>\n",
       "    <tr>\n",
       "      <th>3</th>\n",
       "      <td>us-cities-demographics</td>\n",
       "      <td>0074451cff52969855654d21497e9459f1108d8d</td>\n",
       "      <td>2020-12-30T13:35:36.384Z</td>\n",
       "      <td>192354</td>\n",
       "      <td>Wichita</td>\n",
       "      <td>23978</td>\n",
       "      <td>34.6</td>\n",
       "      <td>american indian and alaska native</td>\n",
       "      <td>8791</td>\n",
       "      <td>197601.0</td>\n",
       "      <td>KS</td>\n",
       "      <td>40270.0</td>\n",
       "      <td>Kansas</td>\n",
       "      <td>389955</td>\n",
       "      <td>2.56</td>\n",
       "    </tr>\n",
       "    <tr>\n",
       "      <th>4</th>\n",
       "      <td>us-cities-demographics</td>\n",
       "      <td>54b201cac9c7523363eb0cfeadc352a04fe016af</td>\n",
       "      <td>2020-12-30T13:35:36.384Z</td>\n",
       "      <td>60626</td>\n",
       "      <td>Allen</td>\n",
       "      <td>5691</td>\n",
       "      <td>33.5</td>\n",
       "      <td>black or african-american</td>\n",
       "      <td>22304</td>\n",
       "      <td>59581.0</td>\n",
       "      <td>PA</td>\n",
       "      <td>19652.0</td>\n",
       "      <td>Pennsylvania</td>\n",
       "      <td>120207</td>\n",
       "      <td>2.67</td>\n",
       "    </tr>\n",
       "  </tbody>\n",
       "</table>\n",
       "</div>"
      ],
      "text/plain": [
       "                datasetid                                  recordid  \\\n",
       "0  us-cities-demographics  9ff2cdb9e7cbe1585135f848ab90d63a0934a2da   \n",
       "1  us-cities-demographics  dd9bab63ddc55c438457d919dca8073d5268b791   \n",
       "2  us-cities-demographics  413ed05fec8b9450e35ac3010ddef17bcfbd83a6   \n",
       "3  us-cities-demographics  0074451cff52969855654d21497e9459f1108d8d   \n",
       "4  us-cities-demographics  54b201cac9c7523363eb0cfeadc352a04fe016af   \n",
       "\n",
       "           record_timestamp male_population           city  \\\n",
       "0  2020-12-30T13:35:36.384Z           40601  Silver Spring   \n",
       "1  2020-12-30T13:35:36.384Z           51751     High Point   \n",
       "2  2020-12-30T13:35:36.384Z          741270   Philadelphia   \n",
       "3  2020-12-30T13:35:36.384Z          192354        Wichita   \n",
       "4  2020-12-30T13:35:36.384Z           60626          Allen   \n",
       "\n",
       "   number_of_veterans  median_age                               race   count  \\\n",
       "0                1562        33.8                 hispanic or latino   25924   \n",
       "1                5204        35.5                              asian   11060   \n",
       "2               61995        34.1                              asian  122721   \n",
       "3               23978        34.6  american indian and alaska native    8791   \n",
       "4                5691        33.5          black or african-american   22304   \n",
       "\n",
       "   female_population state_code  foreign_born           state  \\\n",
       "0            41862.0         MD       30908.0        Maryland   \n",
       "1            58077.0         NC       16315.0  North Carolina   \n",
       "2           826172.0         PA      205339.0    Pennsylvania   \n",
       "3           197601.0         KS       40270.0          Kansas   \n",
       "4            59581.0         PA       19652.0    Pennsylvania   \n",
       "\n",
       "   total_population  average_household_size  \n",
       "0             82463                    2.60  \n",
       "1            109828                    2.65  \n",
       "2           1567442                    2.61  \n",
       "3            389955                    2.56  \n",
       "4            120207                    2.67  "
      ]
     },
     "execution_count": 24,
     "metadata": {},
     "output_type": "execute_result"
    }
   ],
   "source": [
    "df_us_cities_dem.head()"
   ]
  },
  {
   "cell_type": "code",
   "execution_count": 81,
   "id": "c9c6858e",
   "metadata": {},
   "outputs": [],
   "source": [
    "df_us_cities_dem.to_csv('df_us_cities_dem_m4.txt', sep='|', index=False)\n"
   ]
  },
  {
   "cell_type": "markdown",
   "id": "dd6566db",
   "metadata": {},
   "source": [
    "# Yelp Business Reviews \n",
    "This API returns max of 3 reviews and details for a given business ID"
   ]
  },
  {
   "cell_type": "markdown",
   "id": "437b6750",
   "metadata": {},
   "source": [
    "### Step1: This requires API thus upload the API Key from the APIKeys.json file"
   ]
  },
  {
   "cell_type": "code",
   "execution_count": 3,
   "id": "c569d2df",
   "metadata": {},
   "outputs": [],
   "source": [
    "with open('APIkeys.json') as f:\n",
    "    keys = json.load(f)\n",
    "    Yelpapi = keys['Yelpapi']"
   ]
  },
  {
   "cell_type": "markdown",
   "id": "49a3d2be",
   "metadata": {},
   "source": [
    "### Step2: Call the API using request get \n"
   ]
  },
  {
   "cell_type": "code",
   "execution_count": 4,
   "id": "0e48ca2a",
   "metadata": {},
   "outputs": [],
   "source": [
    "# API constants, you shouldn't have to change these.\n",
    "YelpHost = 'https://api.yelp.com/v3/businesses/'\n"
   ]
  },
  {
   "cell_type": "markdown",
   "id": "ed46148a",
   "metadata": {},
   "source": [
    "#### Create a function that will accept host id, business ID, apikey and url paramter needed when calling API"
   ]
  },
  {
   "cell_type": "code",
   "execution_count": 5,
   "id": "fb61605e",
   "metadata": {},
   "outputs": [],
   "source": [
    "def request(host, busid, api_key, url_params=None):\n",
    "    \"\"\"Given your API_KEY, send a GET request to the API.\n",
    "    Args:\n",
    "        host (str): The domain host of the API.\n",
    "        path (str): The path of the API after the domain.\n",
    "        API_KEY (str): Your API Key.\n",
    "        url_params (dict): An optional set of query parameters in the request.\n",
    "    Returns:\n",
    "        dict: The JSON response from the request.\n",
    "    Raises:\n",
    "        HTTPError: An error occurs from the HTTP request.\n",
    "    \"\"\"\n",
    "    url_params = url_params or {}\n",
    "    url = ('{0}{1}/reviews?limit=1&sort_by=yelp_sort'.format(host, busid))\n",
    "    headers = {'Authorization': 'Bearer %s' % api_key, \"accept\": \"application/json\"}\n",
    "\n",
    "    response = requests.request('GET', url, headers=headers, params=url_params)\n",
    "\n",
    "    return response.json()\n"
   ]
  },
  {
   "cell_type": "markdown",
   "id": "ff66f73d",
   "metadata": {},
   "source": [
    "#### Since business ID is needed for this, I have used the file from milestone 2 with the business detail information and use that to get the business id"
   ]
  },
  {
   "cell_type": "code",
   "execution_count": 25,
   "id": "8c7f284f",
   "metadata": {},
   "outputs": [],
   "source": [
    "bus = pd.read_json(\"yelp_academic_dataset_business.json\", lines=True)\n"
   ]
  },
  {
   "cell_type": "code",
   "execution_count": 7,
   "id": "c1dc1734",
   "metadata": {},
   "outputs": [
    {
     "data": {
      "text/html": [
       "<div>\n",
       "<style scoped>\n",
       "    .dataframe tbody tr th:only-of-type {\n",
       "        vertical-align: middle;\n",
       "    }\n",
       "\n",
       "    .dataframe tbody tr th {\n",
       "        vertical-align: top;\n",
       "    }\n",
       "\n",
       "    .dataframe thead th {\n",
       "        text-align: right;\n",
       "    }\n",
       "</style>\n",
       "<table border=\"1\" class=\"dataframe\">\n",
       "  <thead>\n",
       "    <tr style=\"text-align: right;\">\n",
       "      <th></th>\n",
       "      <th>business_id</th>\n",
       "      <th>name</th>\n",
       "      <th>address</th>\n",
       "      <th>city</th>\n",
       "      <th>state</th>\n",
       "      <th>postal_code</th>\n",
       "      <th>latitude</th>\n",
       "      <th>longitude</th>\n",
       "      <th>stars</th>\n",
       "      <th>review_count</th>\n",
       "      <th>is_open</th>\n",
       "      <th>attributes</th>\n",
       "      <th>categories</th>\n",
       "      <th>hours</th>\n",
       "    </tr>\n",
       "  </thead>\n",
       "  <tbody>\n",
       "    <tr>\n",
       "      <th>0</th>\n",
       "      <td>Pns2l4eNsfO8kk83dixA6A</td>\n",
       "      <td>Abby Rappoport, LAC, CMQ</td>\n",
       "      <td>1616 Chapala St, Ste 2</td>\n",
       "      <td>Santa Barbara</td>\n",
       "      <td>CA</td>\n",
       "      <td>93101</td>\n",
       "      <td>34.426679</td>\n",
       "      <td>-119.711197</td>\n",
       "      <td>5.0</td>\n",
       "      <td>7</td>\n",
       "      <td>0</td>\n",
       "      <td>{'ByAppointmentOnly': 'True'}</td>\n",
       "      <td>Doctors, Traditional Chinese Medicine, Naturop...</td>\n",
       "      <td>None</td>\n",
       "    </tr>\n",
       "    <tr>\n",
       "      <th>1</th>\n",
       "      <td>mpf3x-BjTdTEA3yCZrAYPw</td>\n",
       "      <td>The UPS Store</td>\n",
       "      <td>87 Grasso Plaza Shopping Center</td>\n",
       "      <td>Affton</td>\n",
       "      <td>MO</td>\n",
       "      <td>63123</td>\n",
       "      <td>38.551126</td>\n",
       "      <td>-90.335695</td>\n",
       "      <td>3.0</td>\n",
       "      <td>15</td>\n",
       "      <td>1</td>\n",
       "      <td>{'BusinessAcceptsCreditCards': 'True'}</td>\n",
       "      <td>Shipping Centers, Local Services, Notaries, Ma...</td>\n",
       "      <td>{'Monday': '0:0-0:0', 'Tuesday': '8:0-18:30', ...</td>\n",
       "    </tr>\n",
       "    <tr>\n",
       "      <th>2</th>\n",
       "      <td>tUFrWirKiKi_TAnsVWINQQ</td>\n",
       "      <td>Target</td>\n",
       "      <td>5255 E Broadway Blvd</td>\n",
       "      <td>Tucson</td>\n",
       "      <td>AZ</td>\n",
       "      <td>85711</td>\n",
       "      <td>32.223236</td>\n",
       "      <td>-110.880452</td>\n",
       "      <td>3.5</td>\n",
       "      <td>22</td>\n",
       "      <td>0</td>\n",
       "      <td>{'BikeParking': 'True', 'BusinessAcceptsCredit...</td>\n",
       "      <td>Department Stores, Shopping, Fashion, Home &amp; G...</td>\n",
       "      <td>{'Monday': '8:0-22:0', 'Tuesday': '8:0-22:0', ...</td>\n",
       "    </tr>\n",
       "    <tr>\n",
       "      <th>3</th>\n",
       "      <td>MTSW4McQd7CbVtyjqoe9mw</td>\n",
       "      <td>St Honore Pastries</td>\n",
       "      <td>935 Race St</td>\n",
       "      <td>Philadelphia</td>\n",
       "      <td>PA</td>\n",
       "      <td>19107</td>\n",
       "      <td>39.955505</td>\n",
       "      <td>-75.155564</td>\n",
       "      <td>4.0</td>\n",
       "      <td>80</td>\n",
       "      <td>1</td>\n",
       "      <td>{'RestaurantsDelivery': 'False', 'OutdoorSeati...</td>\n",
       "      <td>Restaurants, Food, Bubble Tea, Coffee &amp; Tea, B...</td>\n",
       "      <td>{'Monday': '7:0-20:0', 'Tuesday': '7:0-20:0', ...</td>\n",
       "    </tr>\n",
       "    <tr>\n",
       "      <th>4</th>\n",
       "      <td>mWMc6_wTdE0EUBKIGXDVfA</td>\n",
       "      <td>Perkiomen Valley Brewery</td>\n",
       "      <td>101 Walnut St</td>\n",
       "      <td>Green Lane</td>\n",
       "      <td>PA</td>\n",
       "      <td>18054</td>\n",
       "      <td>40.338183</td>\n",
       "      <td>-75.471659</td>\n",
       "      <td>4.5</td>\n",
       "      <td>13</td>\n",
       "      <td>1</td>\n",
       "      <td>{'BusinessAcceptsCreditCards': 'True', 'Wheelc...</td>\n",
       "      <td>Brewpubs, Breweries, Food</td>\n",
       "      <td>{'Wednesday': '14:0-22:0', 'Thursday': '16:0-2...</td>\n",
       "    </tr>\n",
       "  </tbody>\n",
       "</table>\n",
       "</div>"
      ],
      "text/plain": [
       "              business_id                      name  \\\n",
       "0  Pns2l4eNsfO8kk83dixA6A  Abby Rappoport, LAC, CMQ   \n",
       "1  mpf3x-BjTdTEA3yCZrAYPw             The UPS Store   \n",
       "2  tUFrWirKiKi_TAnsVWINQQ                    Target   \n",
       "3  MTSW4McQd7CbVtyjqoe9mw        St Honore Pastries   \n",
       "4  mWMc6_wTdE0EUBKIGXDVfA  Perkiomen Valley Brewery   \n",
       "\n",
       "                           address           city state postal_code  \\\n",
       "0           1616 Chapala St, Ste 2  Santa Barbara    CA       93101   \n",
       "1  87 Grasso Plaza Shopping Center         Affton    MO       63123   \n",
       "2             5255 E Broadway Blvd         Tucson    AZ       85711   \n",
       "3                      935 Race St   Philadelphia    PA       19107   \n",
       "4                    101 Walnut St     Green Lane    PA       18054   \n",
       "\n",
       "    latitude   longitude  stars  review_count  is_open  \\\n",
       "0  34.426679 -119.711197    5.0             7        0   \n",
       "1  38.551126  -90.335695    3.0            15        1   \n",
       "2  32.223236 -110.880452    3.5            22        0   \n",
       "3  39.955505  -75.155564    4.0            80        1   \n",
       "4  40.338183  -75.471659    4.5            13        1   \n",
       "\n",
       "                                          attributes  \\\n",
       "0                      {'ByAppointmentOnly': 'True'}   \n",
       "1             {'BusinessAcceptsCreditCards': 'True'}   \n",
       "2  {'BikeParking': 'True', 'BusinessAcceptsCredit...   \n",
       "3  {'RestaurantsDelivery': 'False', 'OutdoorSeati...   \n",
       "4  {'BusinessAcceptsCreditCards': 'True', 'Wheelc...   \n",
       "\n",
       "                                          categories  \\\n",
       "0  Doctors, Traditional Chinese Medicine, Naturop...   \n",
       "1  Shipping Centers, Local Services, Notaries, Ma...   \n",
       "2  Department Stores, Shopping, Fashion, Home & G...   \n",
       "3  Restaurants, Food, Bubble Tea, Coffee & Tea, B...   \n",
       "4                          Brewpubs, Breweries, Food   \n",
       "\n",
       "                                               hours  \n",
       "0                                               None  \n",
       "1  {'Monday': '0:0-0:0', 'Tuesday': '8:0-18:30', ...  \n",
       "2  {'Monday': '8:0-22:0', 'Tuesday': '8:0-22:0', ...  \n",
       "3  {'Monday': '7:0-20:0', 'Tuesday': '7:0-20:0', ...  \n",
       "4  {'Wednesday': '14:0-22:0', 'Thursday': '16:0-2...  "
      ]
     },
     "execution_count": 7,
     "metadata": {},
     "output_type": "execute_result"
    }
   ],
   "source": [
    "bus.head()"
   ]
  },
  {
   "cell_type": "code",
   "execution_count": 26,
   "id": "09df8b77",
   "metadata": {},
   "outputs": [],
   "source": [
    "bus_rest = bus.query('categories.str.contains(\"Restaurants\") or categories.str.contains(\"Food\")', engine='python')\n"
   ]
  },
  {
   "cell_type": "code",
   "execution_count": 27,
   "id": "6f462777",
   "metadata": {},
   "outputs": [],
   "source": [
    "bus_rest=bus_rest.reset_index(drop='TRUE')"
   ]
  },
  {
   "cell_type": "code",
   "execution_count": 28,
   "id": "c3308cd5",
   "metadata": {},
   "outputs": [],
   "source": [
    "bus_rest.to_csv('bus_rest_merge_m2.txt', sep='|', index=False)"
   ]
  },
  {
   "cell_type": "markdown",
   "id": "fbd24ccd",
   "metadata": {},
   "source": [
    "#### 1. For this example, I'm just taking the 100 business ID from the file \n",
    "#### 2. I looped through the lenght of business ID and get the business ID from the bus dataframe then call the API request for each business ID. \n",
    "#### 3. I appended each response to a list  response_list then check length of the list \n"
   ]
  },
  {
   "cell_type": "code",
   "execution_count": 10,
   "id": "63b363d7",
   "metadata": {},
   "outputs": [
    {
     "data": {
      "text/plain": [
       "64616"
      ]
     },
     "execution_count": 10,
     "metadata": {},
     "output_type": "execute_result"
    }
   ],
   "source": [
    "len(bus_rest)"
   ]
  },
  {
   "cell_type": "code",
   "execution_count": 11,
   "id": "9f2f98fa",
   "metadata": {},
   "outputs": [
    {
     "data": {
      "text/plain": [
       "500"
      ]
     },
     "execution_count": 11,
     "metadata": {},
     "output_type": "execute_result"
    }
   ],
   "source": [
    "response_list=[]\n",
    "\n",
    "for i in range (500): #Only has limit of 500\n",
    "    businessId=bus_rest['business_id'][i]\n",
    "    response=request(YelpHost,businessId, Yelpapi) #Call the request\n",
    "    response['business_id']=businessId #add business id to response dictionary\n",
    "    response_list.append(response)\n",
    "\n",
    "len(response_list)\n",
    "\n",
    "\n"
   ]
  },
  {
   "cell_type": "code",
   "execution_count": 13,
   "id": "a9555d0d",
   "metadata": {},
   "outputs": [
    {
     "data": {
      "text/plain": [
       "[{'reviews': [{'id': '2l02e-2QAYZnF0tbZz5a-A',\n",
       "    'url': 'https://www.yelp.com/biz/st-honore-pastries-philadelphia?adjust_creative=2YkLfb-An6EFA8djH8GpBA&hrid=2l02e-2QAYZnF0tbZz5a-A&utm_campaign=yelp_api_v3&utm_medium=api_v3_business_reviews&utm_source=2YkLfb-An6EFA8djH8GpBA',\n",
       "    'text': \"Made a quick trip to Philly to get some eats! Of course, knew we'd have to pick up some of the paper wrapped sponge cakes from St. Honore. We called ahead...\",\n",
       "    'rating': 5,\n",
       "    'time_created': '2022-07-25 09:43:43',\n",
       "    'user': {'id': 'CKBLVYZi8len88s1meKIoA',\n",
       "     'profile_url': 'https://www.yelp.com/user_details?userid=CKBLVYZi8len88s1meKIoA',\n",
       "     'image_url': 'https://s3-media1.fl.yelpcdn.com/photo/fa8I6yUxyp6B4AOR1ABGLA/o.jpg',\n",
       "     'name': 'Jo M.'}},\n",
       "   {'id': 'hr4C7vsahxkieDJ9tqtm0A',\n",
       "    'url': 'https://www.yelp.com/biz/st-honore-pastries-philadelphia?adjust_creative=2YkLfb-An6EFA8djH8GpBA&hrid=hr4C7vsahxkieDJ9tqtm0A&utm_campaign=yelp_api_v3&utm_medium=api_v3_business_reviews&utm_source=2YkLfb-An6EFA8djH8GpBA',\n",
       "    'text': \"The crispy roast pork is SO GOOD and lowkey it's 2 little buns stack next to each other for the price of 1. Amazing amazing and can't recommend...\",\n",
       "    'rating': 5,\n",
       "    'time_created': '2021-11-01 11:22:07',\n",
       "    'user': {'id': '-6GY04bTPM2Zo4z0GN4a1A',\n",
       "     'profile_url': 'https://www.yelp.com/user_details?userid=-6GY04bTPM2Zo4z0GN4a1A',\n",
       "     'image_url': 'https://s3-media2.fl.yelpcdn.com/photo/mJ6jWLh9XpX7INSkNJ8AkA/o.jpg',\n",
       "     'name': 'Eileen D.'}},\n",
       "   {'id': 'khVt8RKpraoAwJg_fMjhIw',\n",
       "    'url': 'https://www.yelp.com/biz/st-honore-pastries-philadelphia?adjust_creative=2YkLfb-An6EFA8djH8GpBA&hrid=khVt8RKpraoAwJg_fMjhIw&utm_campaign=yelp_api_v3&utm_medium=api_v3_business_reviews&utm_source=2YkLfb-An6EFA8djH8GpBA',\n",
       "    'text': 'The breads were SUPER SOFT. The egg custard in both breads were on point. Whenever I go to Chinatown, I always stop by at least one local bakery. The breads...',\n",
       "    'rating': 5,\n",
       "    'time_created': '2021-09-26 11:36:55',\n",
       "    'user': {'id': 'UHyquwvf_mI98eNsbIZbng',\n",
       "     'profile_url': 'https://www.yelp.com/user_details?userid=UHyquwvf_mI98eNsbIZbng',\n",
       "     'image_url': 'https://s3-media4.fl.yelpcdn.com/photo/qjQvBu9uRSIlaDOzBf2yYw/o.jpg',\n",
       "     'name': 'April L.'}}],\n",
       "  'total': 82,\n",
       "  'possible_languages': ['en'],\n",
       "  'business_id': 'MTSW4McQd7CbVtyjqoe9mw'}]"
      ]
     },
     "execution_count": 13,
     "metadata": {},
     "output_type": "execute_result"
    }
   ],
   "source": [
    "# Check 1o responses in the list \n",
    "response_list[:1]"
   ]
  },
  {
   "cell_type": "markdown",
   "id": "a227a53a",
   "metadata": {},
   "source": [
    "### Step3: Read each of the response in the list and capture information to create dataset \n"
   ]
  },
  {
   "cell_type": "markdown",
   "id": "6e93138d",
   "metadata": {},
   "source": [
    "#### The response has the Key:total review which is the sum count of each business, also Key: Reviews that has dictionary with review field information. There can be max of 3 Key:reviews for each business ID\n",
    "\n",
    "I have created two blank dictionares:\n",
    "* data_rec_sum will have the business ID and total review\n",
    "* data_rec_dtl will have the multiple reviews for each business ID"
   ]
  },
  {
   "cell_type": "code",
   "execution_count": 14,
   "id": "25dd38d5",
   "metadata": {},
   "outputs": [],
   "source": [
    "data_rec_sum={'business_id':[],'total_review':[]}\n",
    "data_rec_dtl={'business_id':[],'review_id':[],'url':[] ,'text':[],'rating':[]}\n"
   ]
  },
  {
   "cell_type": "markdown",
   "id": "9f207b36",
   "metadata": {},
   "source": [
    "#### Create function that will get the business review details with business and the index of the list \n",
    "\n",
    "* Get the count of the review for each business id\n",
    "* Loop through iterate based on the number of review of each business \n",
    "* Get each review field information and append to the list \n",
    "\n",
    "**This get_response_field will be called on the next step \"Let's build the dictionary \""
   ]
  },
  {
   "cell_type": "code",
   "execution_count": 15,
   "id": "b0401b52",
   "metadata": {},
   "outputs": [],
   "source": [
    "def get_response_field(business_id, idx):\n",
    "\n",
    "    range_review=len(response_list[idx]['reviews']) # get the number of reviews for a business \n",
    "\n",
    "    for x in range(0,range_review):\n",
    "        #'id', 'url', 'text', 'rating', 'time_created' 'user'\n",
    "        data_rec_dtl['business_id'].append(business_id)\n",
    "        data_rec_dtl['review_id'].append(response_list[idx]['reviews'][x]['id'])\n",
    "        data_rec_dtl['url'].append(response_list[idx]['reviews'][x]['url'])\n",
    "        data_rec_dtl['text'].append(response_list[idx]['reviews'][x]['text'])\n",
    "        data_rec_dtl['rating'].append(response_list[idx]['reviews'][x]['rating'])\n",
    "                  "
   ]
  },
  {
   "cell_type": "markdown",
   "id": "73e4a15f",
   "metadata": {},
   "source": [
    "#### Let's build the dictionary \n",
    "* Loop through the response list and for each business ID\n",
    "  * Get the business ID and Total Review and create the data_rec_sum dictionary \n",
    "  * Call the ***get response field function (from above step) to get the field information  and create the data_rec_dtl dictionary"
   ]
  },
  {
   "cell_type": "code",
   "execution_count": 16,
   "id": "9971797e",
   "metadata": {
    "scrolled": true
   },
   "outputs": [],
   "source": [
    "for idx,x in enumerate(response_list):\n",
    "    data_rec_sum['business_id'].append(response_list[idx]['business_id'])\n",
    "    data_rec_sum['total_review'].append(response_list[idx]['total'])\n",
    "    \n",
    "    # Call the get response field to gather review field information\n",
    "    get_response_field((response_list[idx]['business_id']),idx) "
   ]
  },
  {
   "cell_type": "markdown",
   "id": "7c11658f",
   "metadata": {},
   "source": [
    "### Step4 Review results"
   ]
  },
  {
   "cell_type": "code",
   "execution_count": 17,
   "id": "0a99d7c8",
   "metadata": {},
   "outputs": [
    {
     "data": {
      "text/html": [
       "<div>\n",
       "<style scoped>\n",
       "    .dataframe tbody tr th:only-of-type {\n",
       "        vertical-align: middle;\n",
       "    }\n",
       "\n",
       "    .dataframe tbody tr th {\n",
       "        vertical-align: top;\n",
       "    }\n",
       "\n",
       "    .dataframe thead th {\n",
       "        text-align: right;\n",
       "    }\n",
       "</style>\n",
       "<table border=\"1\" class=\"dataframe\">\n",
       "  <thead>\n",
       "    <tr style=\"text-align: right;\">\n",
       "      <th></th>\n",
       "      <th>business_id</th>\n",
       "      <th>total_review</th>\n",
       "    </tr>\n",
       "  </thead>\n",
       "  <tbody>\n",
       "    <tr>\n",
       "      <th>0</th>\n",
       "      <td>MTSW4McQd7CbVtyjqoe9mw</td>\n",
       "      <td>82</td>\n",
       "    </tr>\n",
       "    <tr>\n",
       "      <th>1</th>\n",
       "      <td>mWMc6_wTdE0EUBKIGXDVfA</td>\n",
       "      <td>15</td>\n",
       "    </tr>\n",
       "    <tr>\n",
       "      <th>2</th>\n",
       "      <td>CF33F8-E6oudUQ46HnavjQ</td>\n",
       "      <td>11</td>\n",
       "    </tr>\n",
       "    <tr>\n",
       "      <th>3</th>\n",
       "      <td>k0hlBqXX-Bt0vf1op7Jr1w</td>\n",
       "      <td>20</td>\n",
       "    </tr>\n",
       "    <tr>\n",
       "      <th>4</th>\n",
       "      <td>bBDDEgkFA1Otx9Lfe7BZUQ</td>\n",
       "      <td>16</td>\n",
       "    </tr>\n",
       "  </tbody>\n",
       "</table>\n",
       "</div>"
      ],
      "text/plain": [
       "              business_id  total_review\n",
       "0  MTSW4McQd7CbVtyjqoe9mw            82\n",
       "1  mWMc6_wTdE0EUBKIGXDVfA            15\n",
       "2  CF33F8-E6oudUQ46HnavjQ            11\n",
       "3  k0hlBqXX-Bt0vf1op7Jr1w            20\n",
       "4  bBDDEgkFA1Otx9Lfe7BZUQ            16"
      ]
     },
     "execution_count": 17,
     "metadata": {},
     "output_type": "execute_result"
    }
   ],
   "source": [
    "df_review_sum= pd.DataFrame(data_rec_sum)\n",
    "df_review_sum.head()"
   ]
  },
  {
   "cell_type": "code",
   "execution_count": 18,
   "id": "045d7e93",
   "metadata": {},
   "outputs": [
    {
     "data": {
      "text/html": [
       "<div>\n",
       "<style scoped>\n",
       "    .dataframe tbody tr th:only-of-type {\n",
       "        vertical-align: middle;\n",
       "    }\n",
       "\n",
       "    .dataframe tbody tr th {\n",
       "        vertical-align: top;\n",
       "    }\n",
       "\n",
       "    .dataframe thead th {\n",
       "        text-align: right;\n",
       "    }\n",
       "</style>\n",
       "<table border=\"1\" class=\"dataframe\">\n",
       "  <thead>\n",
       "    <tr style=\"text-align: right;\">\n",
       "      <th></th>\n",
       "      <th>business_id</th>\n",
       "      <th>review_id</th>\n",
       "      <th>url</th>\n",
       "      <th>text</th>\n",
       "      <th>rating</th>\n",
       "    </tr>\n",
       "  </thead>\n",
       "  <tbody>\n",
       "    <tr>\n",
       "      <th>0</th>\n",
       "      <td>MTSW4McQd7CbVtyjqoe9mw</td>\n",
       "      <td>2l02e-2QAYZnF0tbZz5a-A</td>\n",
       "      <td>https://www.yelp.com/biz/st-honore-pastries-ph...</td>\n",
       "      <td>Made a quick trip to Philly to get some eats! ...</td>\n",
       "      <td>5</td>\n",
       "    </tr>\n",
       "    <tr>\n",
       "      <th>1</th>\n",
       "      <td>MTSW4McQd7CbVtyjqoe9mw</td>\n",
       "      <td>hr4C7vsahxkieDJ9tqtm0A</td>\n",
       "      <td>https://www.yelp.com/biz/st-honore-pastries-ph...</td>\n",
       "      <td>The crispy roast pork is SO GOOD and lowkey it...</td>\n",
       "      <td>5</td>\n",
       "    </tr>\n",
       "    <tr>\n",
       "      <th>2</th>\n",
       "      <td>MTSW4McQd7CbVtyjqoe9mw</td>\n",
       "      <td>khVt8RKpraoAwJg_fMjhIw</td>\n",
       "      <td>https://www.yelp.com/biz/st-honore-pastries-ph...</td>\n",
       "      <td>The breads were SUPER SOFT. The egg custard in...</td>\n",
       "      <td>5</td>\n",
       "    </tr>\n",
       "    <tr>\n",
       "      <th>3</th>\n",
       "      <td>mWMc6_wTdE0EUBKIGXDVfA</td>\n",
       "      <td>04dNsXLC5HvhvuHCc_rvvw</td>\n",
       "      <td>https://www.yelp.com/biz/perkiomen-valley-brew...</td>\n",
       "      <td>This place is so cool! You can tell it used to...</td>\n",
       "      <td>5</td>\n",
       "    </tr>\n",
       "    <tr>\n",
       "      <th>4</th>\n",
       "      <td>mWMc6_wTdE0EUBKIGXDVfA</td>\n",
       "      <td>Grfe-Rl7jbIBMchWTdZaug</td>\n",
       "      <td>https://www.yelp.com/biz/perkiomen-valley-brew...</td>\n",
       "      <td>This is our go to brewery. They have a great s...</td>\n",
       "      <td>5</td>\n",
       "    </tr>\n",
       "  </tbody>\n",
       "</table>\n",
       "</div>"
      ],
      "text/plain": [
       "              business_id               review_id  \\\n",
       "0  MTSW4McQd7CbVtyjqoe9mw  2l02e-2QAYZnF0tbZz5a-A   \n",
       "1  MTSW4McQd7CbVtyjqoe9mw  hr4C7vsahxkieDJ9tqtm0A   \n",
       "2  MTSW4McQd7CbVtyjqoe9mw  khVt8RKpraoAwJg_fMjhIw   \n",
       "3  mWMc6_wTdE0EUBKIGXDVfA  04dNsXLC5HvhvuHCc_rvvw   \n",
       "4  mWMc6_wTdE0EUBKIGXDVfA  Grfe-Rl7jbIBMchWTdZaug   \n",
       "\n",
       "                                                 url  \\\n",
       "0  https://www.yelp.com/biz/st-honore-pastries-ph...   \n",
       "1  https://www.yelp.com/biz/st-honore-pastries-ph...   \n",
       "2  https://www.yelp.com/biz/st-honore-pastries-ph...   \n",
       "3  https://www.yelp.com/biz/perkiomen-valley-brew...   \n",
       "4  https://www.yelp.com/biz/perkiomen-valley-brew...   \n",
       "\n",
       "                                                text  rating  \n",
       "0  Made a quick trip to Philly to get some eats! ...       5  \n",
       "1  The crispy roast pork is SO GOOD and lowkey it...       5  \n",
       "2  The breads were SUPER SOFT. The egg custard in...       5  \n",
       "3  This place is so cool! You can tell it used to...       5  \n",
       "4  This is our go to brewery. They have a great s...       5  "
      ]
     },
     "execution_count": 18,
     "metadata": {},
     "output_type": "execute_result"
    }
   ],
   "source": [
    "df_review_dtl= pd.DataFrame(data_rec_dtl)\n",
    "df_review_dtl.head()"
   ]
  },
  {
   "cell_type": "markdown",
   "id": "86767017",
   "metadata": {},
   "source": [
    "### Step5: Merge the two dataframe on business id using inner join"
   ]
  },
  {
   "cell_type": "code",
   "execution_count": 19,
   "id": "298dd02a",
   "metadata": {},
   "outputs": [],
   "source": [
    "df_review = pd.merge(df_review_sum,df_review_dtl , on='business_id', how = 'inner')"
   ]
  },
  {
   "cell_type": "code",
   "execution_count": 20,
   "id": "543cfac7",
   "metadata": {},
   "outputs": [
    {
     "data": {
      "text/html": [
       "<div>\n",
       "<style scoped>\n",
       "    .dataframe tbody tr th:only-of-type {\n",
       "        vertical-align: middle;\n",
       "    }\n",
       "\n",
       "    .dataframe tbody tr th {\n",
       "        vertical-align: top;\n",
       "    }\n",
       "\n",
       "    .dataframe thead th {\n",
       "        text-align: right;\n",
       "    }\n",
       "</style>\n",
       "<table border=\"1\" class=\"dataframe\">\n",
       "  <thead>\n",
       "    <tr style=\"text-align: right;\">\n",
       "      <th></th>\n",
       "      <th>business_id</th>\n",
       "      <th>total_review</th>\n",
       "      <th>review_id</th>\n",
       "      <th>url</th>\n",
       "      <th>text</th>\n",
       "      <th>rating</th>\n",
       "    </tr>\n",
       "  </thead>\n",
       "  <tbody>\n",
       "    <tr>\n",
       "      <th>0</th>\n",
       "      <td>MTSW4McQd7CbVtyjqoe9mw</td>\n",
       "      <td>82</td>\n",
       "      <td>2l02e-2QAYZnF0tbZz5a-A</td>\n",
       "      <td>https://www.yelp.com/biz/st-honore-pastries-ph...</td>\n",
       "      <td>Made a quick trip to Philly to get some eats! ...</td>\n",
       "      <td>5</td>\n",
       "    </tr>\n",
       "    <tr>\n",
       "      <th>1</th>\n",
       "      <td>MTSW4McQd7CbVtyjqoe9mw</td>\n",
       "      <td>82</td>\n",
       "      <td>hr4C7vsahxkieDJ9tqtm0A</td>\n",
       "      <td>https://www.yelp.com/biz/st-honore-pastries-ph...</td>\n",
       "      <td>The crispy roast pork is SO GOOD and lowkey it...</td>\n",
       "      <td>5</td>\n",
       "    </tr>\n",
       "    <tr>\n",
       "      <th>2</th>\n",
       "      <td>MTSW4McQd7CbVtyjqoe9mw</td>\n",
       "      <td>82</td>\n",
       "      <td>khVt8RKpraoAwJg_fMjhIw</td>\n",
       "      <td>https://www.yelp.com/biz/st-honore-pastries-ph...</td>\n",
       "      <td>The breads were SUPER SOFT. The egg custard in...</td>\n",
       "      <td>5</td>\n",
       "    </tr>\n",
       "    <tr>\n",
       "      <th>3</th>\n",
       "      <td>mWMc6_wTdE0EUBKIGXDVfA</td>\n",
       "      <td>15</td>\n",
       "      <td>04dNsXLC5HvhvuHCc_rvvw</td>\n",
       "      <td>https://www.yelp.com/biz/perkiomen-valley-brew...</td>\n",
       "      <td>This place is so cool! You can tell it used to...</td>\n",
       "      <td>5</td>\n",
       "    </tr>\n",
       "    <tr>\n",
       "      <th>4</th>\n",
       "      <td>mWMc6_wTdE0EUBKIGXDVfA</td>\n",
       "      <td>15</td>\n",
       "      <td>Grfe-Rl7jbIBMchWTdZaug</td>\n",
       "      <td>https://www.yelp.com/biz/perkiomen-valley-brew...</td>\n",
       "      <td>This is our go to brewery. They have a great s...</td>\n",
       "      <td>5</td>\n",
       "    </tr>\n",
       "  </tbody>\n",
       "</table>\n",
       "</div>"
      ],
      "text/plain": [
       "              business_id  total_review               review_id  \\\n",
       "0  MTSW4McQd7CbVtyjqoe9mw            82  2l02e-2QAYZnF0tbZz5a-A   \n",
       "1  MTSW4McQd7CbVtyjqoe9mw            82  hr4C7vsahxkieDJ9tqtm0A   \n",
       "2  MTSW4McQd7CbVtyjqoe9mw            82  khVt8RKpraoAwJg_fMjhIw   \n",
       "3  mWMc6_wTdE0EUBKIGXDVfA            15  04dNsXLC5HvhvuHCc_rvvw   \n",
       "4  mWMc6_wTdE0EUBKIGXDVfA            15  Grfe-Rl7jbIBMchWTdZaug   \n",
       "\n",
       "                                                 url  \\\n",
       "0  https://www.yelp.com/biz/st-honore-pastries-ph...   \n",
       "1  https://www.yelp.com/biz/st-honore-pastries-ph...   \n",
       "2  https://www.yelp.com/biz/st-honore-pastries-ph...   \n",
       "3  https://www.yelp.com/biz/perkiomen-valley-brew...   \n",
       "4  https://www.yelp.com/biz/perkiomen-valley-brew...   \n",
       "\n",
       "                                                text  rating  \n",
       "0  Made a quick trip to Philly to get some eats! ...       5  \n",
       "1  The crispy roast pork is SO GOOD and lowkey it...       5  \n",
       "2  The breads were SUPER SOFT. The egg custard in...       5  \n",
       "3  This place is so cool! You can tell it used to...       5  \n",
       "4  This is our go to brewery. They have a great s...       5  "
      ]
     },
     "execution_count": 20,
     "metadata": {},
     "output_type": "execute_result"
    }
   ],
   "source": [
    "df_review.head()"
   ]
  },
  {
   "cell_type": "markdown",
   "id": "38a47ddc",
   "metadata": {},
   "source": [
    "### Store in Separate file for DB loading"
   ]
  },
  {
   "cell_type": "code",
   "execution_count": 22,
   "id": "b792ebbd",
   "metadata": {},
   "outputs": [],
   "source": [
    "df_review.to_csv('df_review_m4.txt', sep='|', index=False)"
   ]
  }
 ],
 "metadata": {
  "kernelspec": {
   "display_name": "Python 3 (ipykernel)",
   "language": "python",
   "name": "python3"
  },
  "language_info": {
   "codemirror_mode": {
    "name": "ipython",
    "version": 3
   },
   "file_extension": ".py",
   "mimetype": "text/x-python",
   "name": "python",
   "nbconvert_exporter": "python",
   "pygments_lexer": "ipython3",
   "version": "3.9.13"
  }
 },
 "nbformat": 4,
 "nbformat_minor": 5
}
